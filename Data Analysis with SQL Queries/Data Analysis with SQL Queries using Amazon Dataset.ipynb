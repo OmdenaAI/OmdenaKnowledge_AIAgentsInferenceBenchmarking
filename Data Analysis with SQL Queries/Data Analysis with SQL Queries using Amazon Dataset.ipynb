{
 "cells": [
  {
   "cell_type": "markdown",
   "metadata": {},
   "source": [
    "## Q&A System App in LangGraph"
   ]
  },
  {
   "cell_type": "markdown",
   "metadata": {},
   "source": [
    "This Q&A System App is built for Q&A over a SQL database. The application gives an LLM access to tools for querying and interacting with the data. It follows the recommendation from LangGraph to load the CSV file into a SQL database instead of directly working with a CSV file. Using SQL requires executing model-generated SQL queries. If instead the graph was directly handling the data from CSV, it would require using a library like Pandas and letting the model execute Python code. Since it is easier to tightly scope SQL connection permissions and sanitize SQL queries than it is to sandbox Python environments, [LangGraph's documentation](https://python.langchain.com/docs/tutorials/sql_qa/) recommends interacting with CSV data via SQL. This is the approach followed in this notebook and analyzed a dataset about products on Amazon."
   ]
  },
  {
   "cell_type": "code",
   "execution_count": 17,
   "metadata": {},
   "outputs": [
    {
     "name": "stdout",
     "output_type": "stream",
     "text": [
      "Note: you may need to restart the kernel to use updated packages.\n"
     ]
    }
   ],
   "source": [
    "# Setup\n",
    "%pip install -qU langgraph langchainhub langchain-community groq pandas"
   ]
  },
  {
   "cell_type": "code",
   "execution_count": 18,
   "metadata": {},
   "outputs": [],
   "source": [
    "# Import libraries\n",
    "import os\n",
    "import sys\n",
    "import yaml\n",
    "from dotenv import load_dotenv\n",
    "\n",
    "import tiktoken\n",
    "import getpass\n",
    "\n",
    "import pandas as pd\n",
    "\n",
    "from typing import TypedDict\n",
    "from typing_extensions import Annotated\n",
    "\n",
    "from langchain_community.utilities import SQLDatabase\n",
    "from langchain_community.tools.sql_database.tool import QuerySQLDatabaseTool\n",
    "from langchain_groq import ChatGroq\n",
    "from langgraph.graph import START, StateGraph\n",
    "\n",
    "from langchain import hub\n",
    "\n",
    "from IPython.display import Image, display"
   ]
  },
  {
   "cell_type": "code",
   "execution_count": 19,
   "metadata": {},
   "outputs": [
    {
     "data": {
      "text/plain": [
       "True"
      ]
     },
     "execution_count": 19,
     "metadata": {},
     "output_type": "execute_result"
    }
   ],
   "source": [
    "# Load environment variables\n",
    "# Returns \"True\" if successful\n",
    "load_dotenv()"
   ]
  },
  {
   "cell_type": "code",
   "execution_count": 20,
   "metadata": {},
   "outputs": [],
   "source": [
    "# Load config.yaml file\n",
    "with open(\"config.yaml\", \"r\") as f:\n",
    "    config = yaml.safe_load(f)"
   ]
  },
  {
   "cell_type": "code",
   "execution_count": 21,
   "metadata": {},
   "outputs": [],
   "source": [
    "# Load specifications from config.yaml\n",
    "llm_config = config[\"llm\"]\n",
    "encoder_name = config[\"tiktoken_encoder\"]\n",
    "prompts = config[\"prompts\"]\n",
    "csv_save = config[\"csv\"]\n",
    "benchmark_keywords = config[\"benchmark\"]"
   ]
  },
  {
   "cell_type": "code",
   "execution_count": null,
   "metadata": {},
   "outputs": [],
   "source": [
    "# Get API key for GROQ\n",
    "if not os.environ.get(\"GROQ_API_KEY\"):\n",
    "  os.environ[\"GROQ_API_KEY\"] = getpass.getpass(\"Enter API key for Groq: \")"
   ]
  },
  {
   "cell_type": "code",
   "execution_count": 23,
   "metadata": {},
   "outputs": [],
   "source": [
    "# LLM Setup\n",
    "llm = ChatGroq(\n",
    "    model=llm_config[\"langgraph_agent_model\"],\n",
    "    api_key=os.environ['GROQ_API_KEY'],\n",
    "    temperature=llm_config[\"temperature\"],\n",
    "    max_tokens=llm_config[\"max_tokens\"],\n",
    "    )"
   ]
  },
  {
   "cell_type": "code",
   "execution_count": 24,
   "metadata": {},
   "outputs": [],
   "source": [
    "enc = tiktoken.get_encoding(encoder_name) "
   ]
  },
  {
   "cell_type": "code",
   "execution_count": 25,
   "metadata": {},
   "outputs": [
    {
     "name": "stdout",
     "output_type": "stream",
     "text": [
      "sqlite\n",
      "['amazon_cleaned']\n"
     ]
    },
    {
     "data": {
      "text/plain": [
       "'[(\\'B0912WJ87V\\', \\'Reffair AX30 [MAX] Portable Air Purifier for Car, Home & Office | Smart Ionizer Function | H13 Grade True HEPA Filter [Internationally Tested] Aromabuds Fragrance Option - Black\\', \\'Car&Motorbike\\', \\'Car&Motorbike|CarAccessories|InteriorAccessories|AirPurifiers&Ionizers\\', \\'₹2,339\\', \\'₹4,000\\', \\'42%\\', 3.8, \\'1,118\\', \\'[NEW LAUNCH - INNOVATIVE DESIGN] EFFICIENT PURIFICATION TECHNOLOGY - Reffair AX30 has the tapered design with an H13 HEPA filter and Smart Negative Ions feature which makes this device perform better and it comes with an effective CADR of 16.2 m³/h.\\\\xa0AX30 is Re-designed\\\\xa0in the year 2021,...\\', \\'AG6W5HESRSDLBX3NCYOOUGFOWERA,AED4U5CF37HVSYPMD6KUP3YPH36A,AGUHDV5GZZQ53BGLNLV654IPDASQ,AEDMXTLZRXBSPPDRYIN6PAGXFXCA,AEVBIVJJCIRYJRR7G47DFT6SFBAA,AF65HJXCS64PXG5GMEBZOLVCZSPQ,AE5CGWMRDJN6NMXZ5XH74X2GIRNQ,AEDVMC3DUI5UUVQ43C4XLLZJGWUA\\', \\'Arivazhagan,Ajit,swanand pandit,Venkatesh S.,Shubham Sharma,arun chaturvedi,Amazon Customer,sanket\\', \\'R3TOOFPX256D59,R1PR50BDQOEIIO,R392FI4QWXWOX5,R85UZWVZHVWQF,R67DCS6U6YAX1,R1D0FB7K1UOFSJ,R24HHC45FGAWV3,R26PXJ8P5Q5FHH\\', \"Liked it,User friendly and effective,Not as per expected,Worth buying for cars which doesn\\'t have inbuilt filter,It works really well...AX30MAX is what we all need..!!,Air purification is awesome,Excelent product for the Prize you pay,Dont expect much\", \"As of now its working fine, but don\\'t expect more like this is not dust remove effective way but I liked it. Let see the durability,Very easy to install and effective in my hatchback.Can be swapped between cars as well,It does not suck the air dust or small particles which are part of dust. Fail...\", \\'https://m.media-amazon.com/images/W/WEBP_402378-T2/images/I/31y+z3bqZcL._SY300_SX300_.jpg\\', \\'https://www.amazon.in/Reffair-AX30-MAX-Internationally-Aromabuds/dp/B0912WJ87V/ref=sr_1_164?qid=1672923598&s=kitchen&sr=1-164\\'), (\\'B097C564GC\\', \\'rts [2 Pack] Mini USB C Type C Adapter Plug, Type C Female to USB A Male Charger Charging Cable Adapter Converter compatible for iPhone, Samsung S20 ultra/S21/S10/S8/S9/MacBook Pro iPad Silver\\', \\'Computers&Accessories\\', \\'Computers&Accessories|Accessories&Peripherals|Adapters|USBtoUSBAdapters\\', \\'₹294\\', \\'₹4,999\\', \\'94%\\', 4.3, \\'4,426\\', \\'【WIDER COMPATIBILITY】This USB C Female to USB A Male adapter converter allows you to connect legacy Type-A laptops/PC,Power bank,Adapter and Charger with USB Type-C cable,USB Type-C hubs and USB Type-C peripherals. Specially compatible with iPhone 12/12 Mini/12 Pro/12 Pro Max,Samsung Galaxy Note...\\', \\'AGO5SRT3ESLNL5WTRQFD5BSIYPQA,AGGNODUMRADB3PQQTLA3U7UKYEWA,AHOUPKNSFRTL4F3KLBXFMEFJSKUA,AE2BXTBQXZ54NAE4NYNFSBR2WREA,AFC3FFC5PKFF5PMA52S3VCHOZ5FQ,AFVUO24OGRVCE6Y7NXYDIOQZONCA,AFJGD6THKLQUOW46YHUM7RY2IPJQ,AEXCIDSOW3GVBORUKET6SP7RJ2PQ\\', \\'Naga Sai Gadagottu,Neha Sharma,Amazon Customer,Ankita singh,S.ARUMUGAM,Umesh,Vasudeva,Krishna Chavan\\', \\'R3CUNCZTU43JPP,RSO46BN8S4OSU,R2UD5D7T4DZRE5,R2XLJQREI5N1VB,R29MV5DZH3FQBH,R9F5EX21OJF17,R12QT09SFCET3,R2RQYG7OHKC98T\\', \\'Tiny helping hand,Good product,As a whole good product,It works,Used ,as of now satisfied with the product,beep sound while connected,Good product,USB to C adopter\\', \\'This eliminates the need to buy chargers for the new USB-C charging cables.The adapters tend to heat up while charging with Samsung fast charger.,Good product,Value for money,It works worth the money,Value for money,Its continuously play a beep sound while connected to the laptop, which is...\\', \\'https://m.media-amazon.com/images/W/WEBP_402378-T2/images/I/3172BJyynBS._SY300_SX300_QL70_FMwebp_.jpg\\', \\'https://www.amazon.in/rts-Adapter-Charging-Converter-compatible/dp/B097C564GC/ref=sr_1_121?qid=1672903001&s=computers&sr=1-121\\'), (\\'B094DQWV9B\\', \\'Kanget [2 Pack] Type C Female to USB A Male Charger | Charging Cable Adapter Converter compatible for iPhone 14, 13, 12,11 Pro Max/Mini/XR/XS/X/SE, Samsung S20 ultra/S21/S10/S8/S9/MacBook Pro iPad (Grey)\\', \\'Computers&Accessories\\', \\'Computers&Accessories|Accessories&Peripherals|Adapters|USBtoUSBAdapters\\', \\'₹149\\', \\'₹399\\', \\'63%\\', 4.0, \\'1,540\\', \\'👍【USB C TO USB ADAPTER】-This is a USB C FEMALE to USB MALE adapter, used to turn all you USB-A ports of laptops, chargers or other devices into a USB-C port. Gives you the ability to connect USB-C peripherals to devices with USB-A ports.|👍【HIGH-SPEED-TRANSMISSION 】 Supports Single-side USB 3.0...\\', \\'AFA6YM4NTFRGHHKYN5U7HUYEVSUA,AEB3EVUTQCHIE3PGITWK72Q6EKTA,AENDMMCGUEYDYJTVD5GZ7VWYOALQ,AGYTNS7EN2WZ2WQGLKN74NA75PNA,AFXQSIUT7B2DVWYGONQGEGVMGFTA,AGBSRQCSUBTYN644BB4FVJBC6RCA,AGK2AGWUMBCU5TCFIZSFDJORZH5A,AG6DLOLZYH4E5ZATU7HOAK4REHSA\\', \\'Abhi_K,Amazon Customer,Swap,shivam,Abhinav Singh,Pulkit Bhardwaj,Minoy C Mathews,ADITYA SINGH\\', \\'R1QIWMR6C3F3U0,R1MSGOZTOMZE4B,R20OZCEE82GU0W,RMKY6FED1DV2L,R3BYJ1ULP499GK,R3G93XCNRW5ZRM,R2AKI7N239TKC6,R1QCWFZKUGG13I\\', \\'Good and does it’s work,Nice product working absolutely fine,Good,Good product,Value for Money,Okay overall,Value for money..,Good product for i phone users\\', \\'Using it to connect my type C Plantronic headphones to Dell laptop and it’s working fine.,We like this product it is just amazing,support good charging speed.,Nice,Small yet very good accessory for the car. It is very small in size and becomes a part of the car interior.There is no lag in...\\', \\'https://m.media-amazon.com/images/W/WEBP_402378-T2/images/I/51JIngdPfEL._SX300_SY300_QL70_FMwebp_.jpg\\', \\'https://www.amazon.in/Kanget-Female-Adapter-Standard-Interface/dp/B094DQWV9B/ref=sr_1_171?qid=1672903004&s=computers&sr=1-171\\'), (\\'B009LJ2BXA\\', \\'Hp Wired On Ear Headphones With Mic With 3.5 Mm Drivers, In-Built Noise Cancelling, Foldable And Adjustable For Laptop/Pc/Office/Home/ 1 Year Warranty (B4B09Pa)\\', \\'Computers&Accessories\\', \\'Computers&Accessories|Accessories&Peripherals|Audio&VideoAccessories|PCHeadsets\\', \\'₹649\\', \\'₹999\\', \\'35%\\', 3.5, \\'7,222\\', \\'Powerful bass and clear treble sounds|Wired connectivity|Ideal for long hours of listening|Superior sound quality and lengthy cable for easy of use|Compact and durable|The smart integrated in-cord remote facilitates easy audio control options|Additional Features: 35mm drivers, gold plated...\\', \\'AFIZUD4UBB67LGWY6CVLRHKA75IA,AG2TD3527KNZZNE46UL2AK56FSZQ,AFEIKYOYXJ5RNF3MHQ6C5U7Q3ZWA,AGON45QTQGUA7BQ4YMU47OFR7A4Q,AEEZJKFACBVCAW4R5CM45YW4GGZA,AF2CV2NIYSCEV4XH4K6AHNDAJL7A,AETSE7X7ADVJXJYX6VW4SJAX5SKQ,AEDH7DZL7EV37HNO2Y774YFM6SYA\\', \\'Deepthi,Nitin Mishra,Raju Chacko,A.VISWANATHAREDDY,Saima,Amazon Customer,Arvind kumar,Amazon Customer\\', \\'R392ZYXC6D3GY0,R1MJHZXZ09ETAE,R20PJKJTCF9RXN,RRBGOD13SHW3G,RFKGZ644H33WX,R21KI36AKNFJAM,R2641YZI4YBHDF,R15FO6TEAGIRJO\\', \\'Headset,Overall a good product. Sound quality and mic quality is quite satisfactory,An ordinary headphone, though its from HP,hp headphone,Sound quality is good.,It’s okay,It is Good product,Issuebin incomming voice\\', \"Not a perfect fit for long usage,One problem you may face if you use it continuously for a long time may be ear ache can be start..,Although it\\'s an HP product there\\'s nothing to write home about this headphone. It does what it is promised and there\\'s value for money as you can trust the brand...\", \\'https://m.media-amazon.com/images/I/31eE6slx4EL._SX300_SY300_QL70_FMwebp_.jpg\\', \\'https://www.amazon.in/HP-B4B09PA-Headphones-with-Mic/dp/B009LJ2BXA/ref=sr_1_361?qid=1672903013&s=computers&sr=1-361\\'), (\\'B08SCCG9D4\\', \\'JBL Commercial CSLM20B Auxiliary Omnidirectional Lavalier Microphone with Battery for Content Creation, Voiceover/Dubbing, Recording (Black,Small)\\', \\'Computers&Accessories\\', \\'Computers&Accessories|Accessories&Peripherals|Audio&VideoAccessories|PCMicrophones\\', \\'₹949\\', \\'₹2,000\\', \\'53%\\', 3.9, \\'14,969\\', \\'Omnidirectional pickup pattern|3.5mm TRRS jack compatible with smartphones & most DSLR cameras|Can be used with mixer amplifiers with 1/4\" (6.3mm) adapter|Powered by LR44 type battery to connect to DSLR cameras, Ideal for : Content Creation, Conference Calls, Voiceover/Dubbing,...\\', \\'AFROXVCIF6PZXFXLS7DLTPT2CGCQ,AHA4ODJMDNBNUVEUSICIV66LIJDA,AECLUTC5AZMCISU3ZNO6J5POEQQQ,AFN6GFJ6JSQR5IEIT4Y34BNEZAYA,AEBPHDTDFUCW7HI35KWQYFX46I6A,AELTGGPWKKSTSM7K75CTYV6PIM5Q,AEB5GI6B4ZNBZUJQPXNXKQ5M776A,AHUPT5QRQ2NHQTMF6RUCZW6WBXXQ\\', \\'Ansh KaTariA,Saqlain Shaikh,Sardar V.,Rushikesh P.,Biman,Kumar ravi,Avinash kr pandey,pankaj kamble\\', \\'R20M6JOASW88SS,RPM4RV2MQNNN0,R19KRP5SDTN2NL,R1HQBX8OVYYO7W,RQ9RWJZB21GNX,R26WA9NHSG09V,R1R02S6NW8I5BS,R3SFPV2D6N2S9Q\\', \"It\\'s just good !,Good for WFH,Works according to needs,Great product for beginners,Good for beginners,Very nice product,Ambiance sound capture,JBL mic is best for Biginaers\", \"It just good for beginners you can start your work using this one, noise cancellation issue you can face while using this and some time connectivity problem also can face coz of it\\'s 3.5 mm jack it\\'s not working well sometime ....overall it\\'s okay at this price.,,Good quality sound.. better than...\", \\'https://m.media-amazon.com/images/I/41U9-x0JGPL._SX300_SY300_QL70_FMwebp_.jpg\\', \\'https://www.amazon.in/JBL-Commercial-Omnidirectional-Microphone-Recording/dp/B08SCCG9D4/ref=sr_1_179?qid=1672903004&s=computers&sr=1-179\\'), (\\'B08HD7JQHX\\', \\'HUMBLE Dynamic Lapel Collar Mic Voice Recording Filter Microphone for Singing Youtube SmartPhones, Black\\', \\'Computers&Accessories\\', \\'Computers&Accessories|Accessories&Peripherals|Audio&VideoAccessories|PCMicrophones\\', \\'₹199\\', \\'₹499\\', \\'60%\\', 3.3, \\'2,804\\', \\'SOUND RECORDING: With the Miracle Sound Microphone you can finally create the perfect videos and audio files on your smartphone and tablet. Pristine sound without .effort, no matter where you are.|SIMPLE OPERATION: Precise Design and Convenient Carrying.|EASY TO USE: Clip-on design, easy to clip...\\', \\'AFILRU3X2FCDPDW5UKLT6C7OPJSA,AFWTGD4FCS2E2U2TDCOEOGP2FWEA,AFHMG44566SPMVPBLRU7VTTJ26VA,AFBDL2XOOPYMHMLABSXN4JAF3WOA,AGZK3EYB72FFZWRS77DCYORIIZZQ,AGPQASU7OTDRO76TQFWP7NVDKD6A,AE62ADD7WHBES7SB2GESKXCE2R7Q,AFZZ3LQJXGZL2I3L2FI2I4ZYEDPA\\', \\'Afrina Hasnat,BKBasu,Ayush Raghuvanshi,Wilfried Antonius,krishna,Kashish,kamal k.,Srikanth Subba Rao\\', \\'REQ74ZVYY2I01,R15RS7QIKMBY5Z,RCYHKHTW0MAL8,R1AB17ZPSW1AE1,R145BZJOMF3WT1,R11AYTN6DNN25S,R17NRPNYVC5XVK,R2U218ZDN8D849\\', \"No TRRS to TRS converter in the box,Not suitable for DSLR camera,Good for beginners,OK,Don\\'t buy,For beginners it\\'s good,Average product,It is a good and useful mic for YouTube content maker\", \"This mic\\'s sound quality is very good but if you are looking for a mic which you will use in your PC then don\\'t buy this microphone because it doesn\\'t come with a TRRS to TRS converter. Overall good mic and wire length is also average 1 Meter. In this price range its very worth it to buy this...\", \\'https://m.media-amazon.com/images/I/41T3Z43M4yL._SX300_SY300_QL70_FMwebp_.jpg\\', \\'https://www.amazon.in/HUMBLE-Dynamic-Recording-Microphone-SmartPhones/dp/B08HD7JQHX/ref=sr_1_205?qid=1672903005&s=computers&sr=1-205\\'), (\\'B08SBH499M\\', \\'ZEBRONICS Zeb-Warrior II 10 watts 2.0 Multimedia Speaker with RGB Lights, USB Powered, AUX Input, Volume Control Pod for PC, Laptops, Desktop\\', \\'Computers&Accessories\\', \\'Computers&Accessories|Accessories&Peripherals|Audio&VideoAccessories|PCSpeakers\\', \\'₹649\\', \\'₹1,300\\', \\'50%\\', 4.1, \\'5,195\\', \\'Warrior II is an 2.0 USB Powered Speaker. Note : Connect the usb side to either laptop or through adapter to any power source and another 3.5 mm pin to music source|Connects with Laptop, Desktop PC - 3.5mm AUX Input. Frequency response:150Hz- 20kHz, Driver size 52mm x 2|It comes with RGB LED...\\', \\'AELPAFD33LDSPRU4SBYCF5JOSYZA,AE7CCDFNM42PHTVFFJ5JF3AFRZJQ,AFBWDDA2YE4P72CA6RHL43B3F4WQ,AEIE7R5GFFELVNO5KDRXGRS3TPKA,AEI4GFTOVHF2SESNRVUOE4N2NDNQ,AFQWXBVRW5AF53GDQLBGWN4NWXFQ,AFKIFIYLWXVSKFCEUBX4ID3T5QHQ,AF644KLEQSZZJOCIVE5XK42WW73A\\', \\'Pranav,D Joardar,Roy,Puneet,Gokul,Nachiket,Prashant T.,Prem Moon\\', \\'R1LREWJCMBQIRO,R2HU0UF6QY4WZD,R1M3HZPOB2BCPA,R3PLOVWNC48BP6,R1K70M5N1R1FLT,R2HZYR1RYPYEVR,R6HSVD0DMTQMY,R6X92GH1ETNJ\\', \\'A beautiful experience in your budget. The volume controller was new for me but it works as a charm.,USB speakers,Nice for the price,Worth the money,Good product,No disable light feature,Please improve sound quality and more,Better at Price\\', \\'The sound quality at this price is unbelievable. The colour changing lights at first might be distracting but you get used to it and it works beautifully with both, PC and laptop.,Its alright.,For the price this is a good buy.,Small and cute speakers with good sound quality.,sound quality is...\\', \\'https://m.media-amazon.com/images/I/41cUmIYRfVL._SX300_SY300_QL70_FMwebp_.jpg\\', \\'https://www.amazon.in/ZEBRONICS-Zeb-Warrior-Speaker-Laptops-Desktop/dp/B08SBH499M/ref=sr_1_394?qid=1672903014&s=computers&sr=1-394\\'), (\\'B08K9PX15C\\', \\'Zebronics Zeb Wonderbar 10 USB Powered 2.0 Computer Speaker with RGB Lights\\', \\'Computers&Accessories\\', \\'Computers&Accessories|Accessories&Peripherals|Audio&VideoAccessories|PCSpeakers\\', \\'₹849\\', \\'₹1,499\\', \\'43%\\', 4.0, \\'7,352\\', \\'The 2.0 speaker has a versatile design that can be used in 2 ways either it can be set as one horizontal soundbar unit or as a vertical 2.0 speaker setup that not only makes the design very efficient but also hasslefree.|USB Powered. Frequency response: 100Hz-18kHz|Volume control, Separation...\\', \\'AFC7Q5Q64XM2Y64FT7Y3L2YVALRA,AG7C5TFPIBMWQQC2SY4UPPRF6T6A,AEV3DHIQIEUNDUMXEPHJBVZ3VMHQ,AF7WOI76RSO6HPHORY46KHV2KARQ,AGLMQEABF4OCKPYA6Y4H6ITQQMXA,AEEXZXEWCWYDJLF6GTCY2Z26BNCQ,AEBEEV5D2QU7YGXUN4BJIK4UUFMQ,AHGY7QPVZJPTLRLC4ZAY2N4EISNQ\\', \\'Balamurugan Trivandrum,prathmesh sawant,Praveen Stakez,Dhananjay Thackeray,Gyan Bhooshan Dubey,Ranabindu mondal,Nilesh,Ganesh S A\\', \\'R2USVKN5VQX7ZL,R36O11JTBG8NKH,R1OC5OKQ1ZHRT4,R1DSMD8RKWG5SN,R1NRFX7JSECICX,R37FILR40ZQ5CU,R2XJMXNKVIUUL5,R3AGSJ4P5W4OG4\\', \\'Nice product from Zebronics... Using for laptop,Gr8 product need more sound quality,Sound,Best Product 👍,Sound bass,Value for money. Wired and aux quality is poor,Compact speakers for PC/Laptop,Worthy for our money\\', \\'Zebronics Product is always good. I bought this product for my laptop and using everyday for watching movies, hearing Songs...,,The sound is awesome as I recommend this for music purpose as it has medium base but rest of all its awesome,,Sound quality is good .....laptop mai aacha use hota h...\\', \\'https://m.media-amazon.com/images/W/WEBP_402378-T1/images/I/31ikDjsSOML._SX300_SY300_QL70_FMwebp_.jpg\\', \\'https://www.amazon.in/Zebronics-Wonderbar-Powered-Computer-Speaker/dp/B08K9PX15C/ref=sr_1_285?qid=1672903008&s=computers&sr=1-285\\'), (\\'B008QS9J6Y\\', \\'Logitech C270 Digital HD Webcam with Widescreen HD Video Calling, HD Light Correction, Noise-Reducing Mic, for Skype, FaceTime, Hangouts, WebEx, PC/Mac/Laptop/MacBook/Tablet - (Black, HD 720p/30fps)\\', \\'Computers&Accessories\\', \\'Computers&Accessories|Accessories&Peripherals|Audio&VideoAccessories|Webcams&VoIPEquipment|Webcams\\', \\'₹1,990\\', \\'₹2,595\\', \\'23%\\', 4.3, \\'20,398\\', \\'Crisp HD 720p/30 fps video calls with diagonal 55° field of view and auto light correction. Compatible with popular platforms including Skype and Zoom.|The built-in noise-reducing mic makes sure your voice comes across clearly up to 1.5 meters away, even if you’re in busy surroundings.|C270’s...\\', \\'AECYNJOWTBY3PX3PXUDDWBLIOPSA,AEPARPN2RVNADVDOWX5E43NSRLBQ,AEUSMIS4UMLQRJF7OOIJ6KTVQYDA,AFESZUVJABZQU6FJXCLTVXNWXDZQ,AH6T7UQ53KSUT77BDESOKVK3KCUA,AGLC3O6OCQK6CXGYLFWPEWDEZXKQ,AFRFNC6ASQGGZVH3NLZE6KT3MR5Q,AEMVIKFENPWUSU4YOQKPSDR2MLPQ\\', \\'Ariz Siddique,RAMKESH SHARMA,Mang singh,Vijay Gharpure,Manish Singh Chouhan,Rohan chavan,Abhay Satyarthi,Jayakrishna Shenoy\\', \\'R1J7T5AF9JYH0A,R2KHKT0GP9IKS2,R1SYS92X1W5JGW,R11JTLY59LQL00,R1L5U7V71A020J,R26HZDGQ08R98N,RRXUVCKCU8ZYM,R2HA8IL3LD2XPI\\', \"Amazing Product!,Good product at in this range.,Thik thak photo aa jata hai.,Good product,Review,Nice hd webcam,Not all of Logitech\\'s products are excellent.,Decent buy for the price.\", \"Totally worth it! Product is quality is good and beyond expectation in such a price range. Wish company has added other features and some add on in quality and more megapixels to it.Best buy for students and working professionals, but don\\'t consider it for buying if you are into content creation...\", \\'https://m.media-amazon.com/images/W/WEBP_402378-T1/images/I/316Q0fvU+2L._SY300_SX300_.jpg\\', \\'https://www.amazon.in/Logitech-C270-HD-Webcam-Black/dp/B008QS9J6Y/ref=sr_1_230?qid=1672903006&s=computers&sr=1-230\\'), (\\'B09P22HXH6\\', \\'Lenovo 300 FHD Webcam with Full Stereo Dual Built-in mics | FHD 1080P 2.1 Megapixel CMOS Camera |Privacy Shutter | Ultra-Wide 95 Lens | 360 Rotation | Flexible Mount, Plug-n-Play | Cloud Grey\\', \\'Computers&Accessories\\', \\'Computers&Accessories|Accessories&Peripherals|Audio&VideoAccessories|Webcams&VoIPEquipment|Webcams\\', \\'₹1,890\\', \\'₹5,490\\', \\'66%\\', 4.1, \\'10,976\\', \\'Full HD Video Calls with Stereo Audio: The Lenovo 300 FHD Webcam is powered by a Full HD 1080P 2.1 Megapixel CMOS camera that allows your friends, family, and colleagues to see you as clear as day, even when they are worlds away. With full stereo dual-mics that are perfect for conferencing or...\\', \\'AETNDYMC3FBFMJOQYVSXMVMKDKSQ,AHSCPCSPRAPMZNIH6UB6PIX7URGQ,AFWG4JI344C6S46UQ45JBUHOCQUQ,AERDXJS6P2HTRWVKLVW7SUBDKBGA,AFXFUNDPMG2IONSORBEGUJZOMJMA,AHZNRDTV27KCO662Q5ZOX2ZC26OA,AEJXEBKJXSB4RWFIPPOJQG6FGKTA,AE7A3OXYT2YN46P3WD37MDGTCDQA\\', \\'Sheikh Asif Ismail,Biplab Pal,Amazon Customer,shrikant diwate,Ajay R Jadhav (artist),Riyu,Suraj Rathore,Ayesha Khan\\', \\'R3S6FZ236ULL4K,R3U8F3JQ8WX7NS,R20EGFOQRBXT5B,R2TIXFYMKJN2M2,R107X637OTGBDN,R2I0H4HLC84J5K,R2W5JWALRE30FZ,R2EJWWUBGMPY0A\\', \\'Nice product ..,Lenovo 300 camera,Very nice in the pricecrange and in budget.,Not able to connect with android TV , can you please help me out.,Good for 4 group calling fot have focusing function,Good one..,Amazing,Good product\\', \\'Picture quality and camera build is good.,,Very nice web cam by lenovo ,picture quality is very good ,havent seen its video quality but what i see on screen is just wao.wide angle coverage is a very good feature added.as i wont have to rotate  the camera while taking in pic of the person sitting...\\', \\'https://m.media-amazon.com/images/W/WEBP_402378-T1/images/I/31psvbJkfOL._SY300_SX300_QL70_FMwebp_.jpg\\', \\'https://www.amazon.in/Lenovo-Megapixel-Ultra-Wide-Rotation-Plug-n-Play/dp/B09P22HXH6/ref=sr_1_323?qid=1672903011&s=computers&sr=1-323\\')]'"
      ]
     },
     "execution_count": 25,
     "metadata": {},
     "output_type": "execute_result"
    }
   ],
   "source": [
    "# Connect to database\n",
    "db = SQLDatabase.from_uri(\"sqlite:///amazon_cleaned.db\")\n",
    "print(db.dialect)\n",
    "print(db.get_usable_table_names())\n",
    "db.run(\"SELECT * FROM amazon_cleaned LIMIT 10;\")"
   ]
  },
  {
   "cell_type": "markdown",
   "metadata": {},
   "source": [
    "Using SQL to interact with CSV data is the recommended approach because it is easier to limit permissions and sanitize queries than with arbitrary Python. I already have loaded the CSV file in a SQL database. After that it is possible to use all of the chain and agent-creating techniques outlined in the SQL tutorial provided by LangGraph. In the below I use SQLite."
   ]
  },
  {
   "cell_type": "code",
   "execution_count": 26,
   "metadata": {},
   "outputs": [],
   "source": [
    "# Define the LangGraph state of the application\n",
    "class State(TypedDict):\n",
    "    question: str\n",
    "    query: str\n",
    "    result: str\n",
    "    answer: str"
   ]
  },
  {
   "cell_type": "code",
   "execution_count": 27,
   "metadata": {},
   "outputs": [
    {
     "name": "stderr",
     "output_type": "stream",
     "text": [
      "c:\\Users\\tsvet\\anaconda3\\envs\\langgraph\\Lib\\site-packages\\langsmith\\client.py:253: LangSmithMissingAPIKeyWarning: API key must be provided when using hosted LangSmith API\n",
      "  warnings.warn(\n"
     ]
    },
    {
     "name": "stdout",
     "output_type": "stream",
     "text": [
      "================================\u001b[1m System Message \u001b[0m================================\n",
      "\n",
      "Given an input question, create a syntactically correct \u001b[33;1m\u001b[1;3m{dialect}\u001b[0m query to run to help find the answer. Unless the user specifies in his question a specific number of examples they wish to obtain, always limit your query to at most \u001b[33;1m\u001b[1;3m{top_k}\u001b[0m results. You can order the results by a relevant column to return the most interesting examples in the database.\n",
      "\n",
      "Never query for all the columns from a specific table, only ask for a the few relevant columns given the question.\n",
      "\n",
      "Pay attention to use only the column names that you can see in the schema description. Be careful to not query for columns that do not exist. Also, pay attention to which column is in which table.\n",
      "\n",
      "Only use the following tables:\n",
      "\u001b[33;1m\u001b[1;3m{table_info}\u001b[0m\n",
      "\n",
      "Question: \u001b[33;1m\u001b[1;3m{input}\u001b[0m\n"
     ]
    }
   ],
   "source": [
    "# Pull a prompt from the Prompt Hub to instruct the model.\n",
    "query_prompt_template = hub.pull(\"langchain-ai/sql-query-system-prompt\")\n",
    "\n",
    "assert len(query_prompt_template.messages) == 1\n",
    "query_prompt_template.messages[0].pretty_print()"
   ]
  },
  {
   "cell_type": "markdown",
   "metadata": {},
   "source": [
    "The prompt includes several parameters we will need to populate, such as the SQL dialect and table schemas. LangChain's SQLDatabase object includes methods to help with this. Our write_query step will just populate these parameters and prompt a model to generate the SQL query:"
   ]
  },
  {
   "cell_type": "code",
   "execution_count": 28,
   "metadata": {},
   "outputs": [],
   "source": [
    "class QueryOutput(TypedDict):\n",
    "    \"\"\"Generated SQL query.\"\"\"\n",
    "\n",
    "    query: Annotated[str, ..., \"Syntactically valid SQL query.\"]\n",
    "\n",
    "\n",
    "def write_query(state: State):\n",
    "    \"\"\"Generate SQL query to fetch information.\"\"\"\n",
    "    prompt = query_prompt_template.invoke(\n",
    "        {\n",
    "            \"dialect\": db.dialect,\n",
    "            \"top_k\": 10,\n",
    "            \"table_info\": db.get_table_info(),\n",
    "            \"input\": state[\"question\"],\n",
    "        }\n",
    "    )\n",
    "    structured_llm = llm.with_structured_output(QueryOutput)\n",
    "    result = structured_llm.invoke(prompt)\n",
    "    return {\"query\": result[\"query\"]}"
   ]
  },
  {
   "cell_type": "code",
   "execution_count": null,
   "metadata": {},
   "outputs": [
    {
     "data": {
      "text/plain": [
       "{'query': 'SELECT COUNT(product_id) FROM amazon_cleaned LIMIT 10'}"
      ]
     },
     "execution_count": 29,
     "metadata": {},
     "output_type": "execute_result"
    }
   ],
   "source": [
    "# Write a sample question\n",
    "write_query({\"question\": \"How many products are there?\"})"
   ]
  },
  {
   "cell_type": "code",
   "execution_count": null,
   "metadata": {},
   "outputs": [],
   "source": [
    "# Create a function for executing a SQL Query\n",
    "def execute_query(state: State):\n",
    "    \"\"\"Execute SQL query.\"\"\"\n",
    "    execute_query_tool = QuerySQLDatabaseTool(db=db)\n",
    "    return {\"result\": execute_query_tool.invoke(state[\"query\"])}"
   ]
  },
  {
   "cell_type": "code",
   "execution_count": null,
   "metadata": {},
   "outputs": [
    {
     "data": {
      "text/plain": [
       "{'result': '[(1351,)]'}"
      ]
     },
     "execution_count": 31,
     "metadata": {},
     "output_type": "execute_result"
    }
   ],
   "source": [
    "# Test executing a sample SQL query\n",
    "execute_query({\"query\": 'SELECT COUNT(product_id) FROM amazon_cleaned'})"
   ]
  },
  {
   "cell_type": "code",
   "execution_count": 32,
   "metadata": {},
   "outputs": [],
   "source": [
    "# Generate an answer to the question given the information pulled from the database\n",
    "def generate_answer(state: State):\n",
    "    \"\"\"Answer question using retrieved information as context.\"\"\"\n",
    "    prompt = (\n",
    "        \"Given the following user question, corresponding SQL query, \"\n",
    "        \"and SQL result, answer the user question.\\n\\n\"\n",
    "        f'Question: {state[\"question\"]}\\n'\n",
    "        f'SQL Query: {state[\"query\"]}\\n'\n",
    "        f'SQL Result: {state[\"result\"]}'\n",
    "    )\n",
    "    response = llm.invoke(prompt)\n",
    "    return {\"answer\": response.content}"
   ]
  },
  {
   "cell_type": "code",
   "execution_count": 33,
   "metadata": {},
   "outputs": [],
   "source": [
    "# Orchestrate with LangGraph\n",
    "graph_builder = StateGraph(State).add_sequence(\n",
    "    [write_query, execute_query, generate_answer]\n",
    ")\n",
    "graph_builder.add_edge(START, \"write_query\")\n",
    "graph = graph_builder.compile()"
   ]
  },
  {
   "cell_type": "code",
   "execution_count": 35,
   "metadata": {},
   "outputs": [
    {
     "data": {
      "image/png": "[encoded data removed]",
      "text/plain": [
       "<IPython.core.display.Image object>"
      ]
     },
     "metadata": {},
     "output_type": "display_data"
    }
   ],
   "source": [
    "# Display the image representing the graph\n",
    "display(Image(graph.get_graph().draw_mermaid_png()))"
   ]
  },
  {
   "cell_type": "code",
   "execution_count": null,
   "metadata": {},
   "outputs": [
    {
     "name": "stdout",
     "output_type": "stream",
     "text": [
      "{'write_query': {'query': 'SELECT COUNT(product_id) FROM amazon_cleaned'}}\n",
      "{'execute_query': {'result': '[(1351,)]'}}\n",
      "{'generate_answer': {'answer': 'There are 1351 products.'}}\n"
     ]
    }
   ],
   "source": [
    "# Test the application\n",
    "for step in graph.stream(\n",
    "    {\"question\": \"How many products are in the database?\"}, stream_mode=\"updates\"\n",
    "):\n",
    "    print(step)"
   ]
  }
 ],
 "metadata": {
  "kernelspec": {
   "display_name": "langgraph",
   "language": "python",
   "name": "python3"
  },
  "language_info": {
   "codemirror_mode": {
    "name": "ipython",
    "version": 3
   },
   "file_extension": ".py",
   "mimetype": "text/x-python",
   "name": "python",
   "nbconvert_exporter": "python",
   "pygments_lexer": "ipython3",
   "version": "3.11.11"
  }
 },
 "nbformat": 4,
 "nbformat_minor": 2
}
