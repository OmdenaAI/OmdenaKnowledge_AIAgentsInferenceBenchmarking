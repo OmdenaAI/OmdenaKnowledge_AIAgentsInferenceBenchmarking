{
  "nbformat": 4,
  "nbformat_minor": 0,
  "metadata": {
    "colab": {
      "provenance": []
    },
    "kernelspec": {
      "name": "python3",
      "display_name": "Python 3"
    },
    "language_info": {
      "name": "python"
    }
  },
  "cells": [
    {
      "cell_type": "code",
      "execution_count": 1,
      "metadata": {
        "colab": {
          "base_uri": "https://localhost:8080/"
        },
        "id": "dpgaWvuHkhyo",
        "outputId": "830eb739-12e1-48dc-d52e-88089df64930"
      },
      "outputs": [
        {
          "output_type": "stream",
          "name": "stdout",
          "text": [
            "\u001b[?25l   \u001b[90m━━━━━━━━━━━━━━━━━━━━━━━━━━━━━━━━━━━━━━━━\u001b[0m \u001b[32m0.0/2.5 MB\u001b[0m \u001b[31m?\u001b[0m eta \u001b[36m-:--:--\u001b[0m\r\u001b[2K   \u001b[91m━━━━━━━━━━━━━━━━━━━━━━━━━━━━━\u001b[0m\u001b[91m╸\u001b[0m\u001b[90m━━━━━━━━━━\u001b[0m \u001b[32m1.9/2.5 MB\u001b[0m \u001b[31m57.2 MB/s\u001b[0m eta \u001b[36m0:00:01\u001b[0m\r\u001b[2K   \u001b[91m━━━━━━━━━━━━━━━━━━━━━━━━━━━━━━━━━━━━━━━\u001b[0m\u001b[91m╸\u001b[0m \u001b[32m2.5/2.5 MB\u001b[0m \u001b[31m35.5 MB/s\u001b[0m eta \u001b[36m0:00:01\u001b[0m\r\u001b[2K   \u001b[90m━━━━━━━━━━━━━━━━━━━━━━━━━━━━━━━━━━━━━━━━\u001b[0m \u001b[32m2.5/2.5 MB\u001b[0m \u001b[31m21.2 MB/s\u001b[0m eta \u001b[36m0:00:00\u001b[0m\n",
            "\u001b[2K   \u001b[90m━━━━━━━━━━━━━━━━━━━━━━━━━━━━━━━━━━━━━━━━\u001b[0m \u001b[32m138.2/138.2 kB\u001b[0m \u001b[31m8.3 MB/s\u001b[0m eta \u001b[36m0:00:00\u001b[0m\n",
            "\u001b[2K   \u001b[90m━━━━━━━━━━━━━━━━━━━━━━━━━━━━━━━━━━━━━━━━\u001b[0m \u001b[32m109.6/109.6 kB\u001b[0m \u001b[31m7.8 MB/s\u001b[0m eta \u001b[36m0:00:00\u001b[0m\n",
            "\u001b[2K   \u001b[90m━━━━━━━━━━━━━━━━━━━━━━━━━━━━━━━━━━━━━━━━\u001b[0m \u001b[32m44.7/44.7 kB\u001b[0m \u001b[31m3.0 MB/s\u001b[0m eta \u001b[36m0:00:00\u001b[0m\n",
            "\u001b[2K   \u001b[90m━━━━━━━━━━━━━━━━━━━━━━━━━━━━━━━━━━━━━━━━\u001b[0m \u001b[32m49.5/49.5 kB\u001b[0m \u001b[31m3.3 MB/s\u001b[0m eta \u001b[36m0:00:00\u001b[0m\n",
            "\u001b[?25h"
          ]
        }
      ],
      "source": [
        "%pip install -q langchain langchain_groq langchain_community langgraph"
      ]
    },
    {
      "cell_type": "code",
      "source": [
        "from google.colab import userdata\n",
        "groq_api_key = userdata.get('groq_api_key')\n",
        "langsmith=userdata.get('LANGSMITH_API_KEY')"
      ],
      "metadata": {
        "id": "m6cNVL94lEj2"
      },
      "execution_count": 2,
      "outputs": []
    },
    {
      "cell_type": "code",
      "source": [
        "import os\n",
        "os.environ['LANGCHAIN_API_KEY']=langsmith\n",
        "os.environ['LANGCHAIN_TRACING_V2'] = 'true'\n",
        "os.environ['LANGCHAIN_PROJECT']='LiveLangraph'"
      ],
      "metadata": {
        "id": "-30-wYp1lYMu"
      },
      "execution_count": 3,
      "outputs": []
    },
    {
      "cell_type": "code",
      "source": [
        "from langchain_groq import ChatGroq"
      ],
      "metadata": {
        "id": "Xhrbyje_laZw"
      },
      "execution_count": 4,
      "outputs": []
    },
    {
      "cell_type": "code",
      "source": [
        "llm=ChatGroq(api_key=groq_api_key,model_name='Gemma2-9b-It')"
      ],
      "metadata": {
        "id": "zsA1xYaDlciG"
      },
      "execution_count": 5,
      "outputs": []
    },
    {
      "cell_type": "code",
      "source": [
        "import pandas as pd\n",
        "from typing import Annotated\n",
        "from typing_extensions import TypedDict\n",
        "from langgraph.graph import StateGraph, START, END\n",
        "from langgraph.graph.message import add_messages"
      ],
      "metadata": {
        "id": "K0RStTbelerS"
      },
      "execution_count": 25,
      "outputs": []
    },
    {
      "cell_type": "code",
      "source": [
        "class State(TypedDict):\n",
        "  #message have the type \"list\". The 'add_messages' function\n",
        "  #in the annotation defines how this state key should be updated\n",
        "  messages:Annotated[list,add_messages]\n",
        "  dataset:pd.DataFrame\n",
        "\n",
        "graph_builder=StateGraph(State)"
      ],
      "metadata": {
        "id": "P8twp5xJmNaA"
      },
      "execution_count": 35,
      "outputs": []
    },
    {
      "cell_type": "code",
      "source": [
        "data=pd.read_csv('crop_yield_prediction_data_crop_yield.csv')"
      ],
      "metadata": {
        "id": "NU1aeclkm20C"
      },
      "execution_count": 36,
      "outputs": []
    },
    {
      "cell_type": "code",
      "source": [
        "# Add dataset to initial state\n",
        "initial_state = {\"messages\": [], \"dataset\": data}"
      ],
      "metadata": {
        "id": "5JmkFcjunNUt"
      },
      "execution_count": 37,
      "outputs": []
    },
    {
      "cell_type": "code",
      "source": [
        "def chatbot(state: State):\n",
        "    # Get the user's latest message\n",
        "    user_message = state[\"messages\"][-1] if state[\"messages\"] else \"Hello!\"\n",
        "\n",
        "    # Generate context for the LLM\n",
        "    dataset_summary = {\n",
        "        \"columns\": state[\"dataset\"].columns.tolist(),\n",
        "        \"row_count\": len(state[\"dataset\"]),\n",
        "        \"missing_values\": state[\"dataset\"].isnull().sum().to_dict(),\n",
        "        \"summary_statistics\": state[\"dataset\"].describe().to_dict(),\n",
        "    }\n",
        "\n",
        "    # Prepare the LLM prompt\n",
        "    prompt = f\"\"\"\n",
        "You are an intelligent assistant for analyzing datasets.\n",
        "Here is a summary of the dataset:\n",
        "- Columns: {dataset_summary['columns']}\n",
        "- Row Count: {dataset_summary['row_count']}\n",
        "- Missing Values: {dataset_summary['missing_values']}\n",
        "- Summary Statistics: {dataset_summary['summary_statistics']}\n",
        "\n",
        "The user has asked the following question: \"{user_message}\"\n",
        "\n",
        "Provide a helpful response.\n",
        "\"\"\"\n",
        "\n",
        "    # Invoke the LLM to generate a response\n",
        "    response = llm.invoke(prompt)\n",
        "\n",
        "    # Return the response as part of the updated state\n",
        "    return {\"messages\": [response]}\n"
      ],
      "metadata": {
        "id": "fNt99EnOnOC2"
      },
      "execution_count": 38,
      "outputs": []
    },
    {
      "cell_type": "code",
      "source": [
        "graph_builder.add_node(\"chatbot\", chatbot)"
      ],
      "metadata": {
        "colab": {
          "base_uri": "https://localhost:8080/"
        },
        "id": "cCs9l-2dpp0g",
        "outputId": "e87a3a4f-782d-4a78-a8b8-b06c2d764f2b"
      },
      "execution_count": 39,
      "outputs": [
        {
          "output_type": "execute_result",
          "data": {
            "text/plain": [
              "<langgraph.graph.state.StateGraph at 0x7f7ae29c9db0>"
            ]
          },
          "metadata": {},
          "execution_count": 39
        }
      ]
    },
    {
      "cell_type": "code",
      "source": [
        "graph_builder.add_edge(START, \"chatbot\")\n",
        "graph_builder.add_edge(\"chatbot\", END)"
      ],
      "metadata": {
        "colab": {
          "base_uri": "https://localhost:8080/"
        },
        "id": "WNEtBl1sp15O",
        "outputId": "8402ff1f-bc89-441c-ce88-ceeb7c187381"
      },
      "execution_count": 40,
      "outputs": [
        {
          "output_type": "execute_result",
          "data": {
            "text/plain": [
              "<langgraph.graph.state.StateGraph at 0x7f7ae29c9db0>"
            ]
          },
          "metadata": {},
          "execution_count": 40
        }
      ]
    },
    {
      "cell_type": "code",
      "source": [
        "graph = graph_builder.compile()"
      ],
      "metadata": {
        "id": "H3AyHHaAqQ1d"
      },
      "execution_count": 41,
      "outputs": []
    },
    {
      "cell_type": "code",
      "source": [
        "graph"
      ],
      "metadata": {
        "colab": {
          "base_uri": "https://localhost:8080/",
          "height": 251
        },
        "id": "VpOas9RgqTOs",
        "outputId": "1f3a527d-e52e-4c88-fd7c-a10ad2882f94"
      },
      "execution_count": 42,
      "outputs": [
        {
          "output_type": "execute_result",
          "data": {
            "text/plain": [
              "<langgraph.graph.state.CompiledStateGraph object at 0x7f7ae29ca4a0>"
            ],
            "image/png": "[encoded data removed]"
          },
          "metadata": {},
          "execution_count": 42
        }
      ]
    },
    {
      "cell_type": "code",
      "source": [
        "def stream_graph_updates(user_input: str):\n",
        "    for event in graph.stream({**initial_state, \"messages\": [(\"user\", user_input)]}):\n",
        "        for value in event.values():\n",
        "            print(\"Assistant:\", value[\"messages\"][-1].content)\n",
        "\n",
        "# Simulate predefined queries\n",
        "user_queries = [\n",
        "    \"Summarize the dataset\",\n",
        "    \"Find the missing values\",\n",
        "    \"Show the correlation matrix\",\n",
        "    \"What are the columns in the dataset?\",\n",
        "    \"How many rows are in the dataset?\"\n",
        "]\n",
        "\n",
        "# Process each query using streaming\n",
        "for query in user_queries:\n",
        "    print(f\"User Query: {query}\")\n",
        "    stream_graph_updates(query)\n",
        "    print(\"\\n\")\n"
      ],
      "metadata": {
        "colab": {
          "base_uri": "https://localhost:8080/"
        },
        "id": "lR9PQF48qUAK",
        "outputId": "583aed9e-9064-4bcb-bc5d-e8be01add2cc"
      },
      "execution_count": 44,
      "outputs": [
        {
          "output_type": "stream",
          "name": "stdout",
          "text": [
            "User Query: Summarize the dataset\n",
            "Assistant: This dataset contains information about crop yields and the environmental factors that might influence them.  Here's a summary:\n",
            "\n",
            "**Data Points:**\n",
            "\n",
            "* **Crop:**  The type of crop being studied (no missing values).\n",
            "* **Precipitation (mm day-1):** Daily rainfall in millimeters (no missing values).\n",
            "    *  Average rainfall is around 2486 mm per day.\n",
            "* **Specific Humidity at 2 Meters (g/kg):**  The amount of water vapor in the air at a height of 2 meters (no missing values).\n",
            "    *  Averages around 18.2 grams of water per kilogram of air.\n",
            "* **Relative Humidity at 2 Meters (%):** The percentage of water vapor in the air at 2 meters (no missing values).\n",
            "    *  Averages around 84.7%.\n",
            "* **Temperature at 2 Meters (C):**  The air temperature at 2 meters (no missing values).\n",
            "    *  Averages around 26.2 degrees Celsius.\n",
            "* **Yield:**  The amount of crop produced (no missing values).\n",
            "    *  Yields vary significantly, with an average of around 56153 units and a wide range from 5249 to 203399 units.\n",
            "\n",
            "**Potential Insights:**\n",
            "\n",
            "This dataset could be used to explore the relationship between these environmental factors and crop yield.  For example, you could investigate:\n",
            "\n",
            "* Does higher precipitation lead to higher yields?\n",
            "* Is there a relationship between temperature and yield?\n",
            "* How do different humidity levels affect crop production?\n",
            "\n",
            "\n",
            "Let me know if you'd like to explore any of these relationships further or have other questions about the data! \n",
            "\n",
            "\n",
            "\n",
            "\n",
            "User Query: Find the missing values\n",
            "Assistant: The dataset you provided has **no missing values**. \n",
            "\n",
            "The summary you shared states: \n",
            "\"Missing Values: {'Crop': 0, 'Precipitation (mm day-1)': 0, 'Specific Humidity at 2 Meters (g/kg)': 0, 'Relative Humidity at 2 Meters (%)': 0, 'Temperature at 2 Meters (C)': 0, 'Yield': 0}\"\n",
            "\n",
            "This means there are no empty or null values in any of the columns. \n",
            "\n",
            "\n",
            "Let me know if you have any other questions about this dataset! \n",
            "\n",
            "\n",
            "\n",
            "User Query: Show the correlation matrix\n",
            "Assistant: I can help you with that! \n",
            "\n",
            "However, to generate a correlation matrix, I need a bit more information.  Could you please clarify:\n",
            "\n",
            "1. **What type of correlation matrix are you interested in?** \n",
            "   -  **Pearson correlation:** This measures the linear relationship between variables. It's suitable for numerical data that follows a roughly normal distribution.\n",
            "   - **Spearman correlation:** This measures the monotonic relationship between variables. It's more robust to outliers and non-linear relationships.\n",
            "2. **Do you want to see the correlation matrix for all columns, or just a subset?**\n",
            "\n",
            "Once I have these details, I can calculate and display the correlation matrix for your dataset. \n",
            "\n",
            "\n",
            "Let me know! \n",
            "\n",
            "\n",
            "\n",
            "\n",
            "User Query: What are the columns in the dataset?\n",
            "Assistant: The columns in the dataset are:\n",
            "\n",
            "- Crop\n",
            "- Precipitation (mm day-1)\n",
            "- Specific Humidity at 2 Meters (g/kg)\n",
            "- Relative Humidity at 2 Meters (%)\n",
            "- Temperature at 2 Meters (C)\n",
            "- Yield \n",
            "\n",
            "\n",
            "\n",
            "User Query: How many rows are in the dataset?\n",
            "Assistant: There are 156 rows in the dataset. \n",
            "\n",
            "\n",
            "\n"
          ]
        }
      ]
    },
    {
      "cell_type": "code",
      "source": [],
      "metadata": {
        "id": "SgZut-Cxqclx"
      },
      "execution_count": null,
      "outputs": []
    }
  ]
}